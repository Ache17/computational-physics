{
 "cells": [
  {
   "cell_type": "markdown",
   "metadata": {},
   "source": [
    "## First order differential equation \n",
    "First order differential equations can be written in form as : $$ \\large \\frac{dy(t)}{dt} = f(y, t)$$\n",
    "which describes rate of change of function y in respect to time. <br>\n",
    "\n",
    "## Euler Method\n",
    "because we have finite precision in computers we represent that equation in term of finite differences\n",
    "$$\\large \\frac{\\Delta y(t)}{\\Delta t} = f(y, t)$$ <br>\n",
    "$$\\large \\Delta y(t) = f(y, t) \\Delta t$$ <br>\n",
    "$$\\large y^{n+1}(t) = y^{n} + f(y, t) \\Delta t$$\n"
   ]
  },
  {
   "cell_type": "code",
   "execution_count": 2,
   "metadata": {},
   "outputs": [],
   "source": [
    "%matplotlib inline\n",
    "from ipywidgets import *\n",
    "import numpy as np\n",
    "import matplotlib.pyplot as plt"
   ]
  },
  {
   "cell_type": "code",
   "execution_count": 3,
   "metadata": {},
   "outputs": [
    {
     "data": {
      "application/vnd.jupyter.widget-view+json": {
       "model_id": "bfdea4a7328f46258cf81c3fb926d555",
       "version_major": 2,
       "version_minor": 0
      },
      "text/plain": [
       "interactive(children=(FloatSlider(value=1.0, description='k', max=5.0), FloatSlider(value=5.0, description='t'…"
      ]
     },
     "metadata": {},
     "output_type": "display_data"
    },
    {
     "data": {
      "text/plain": [
       "<function __main__.update(k=1.0, t=0, dt=0.1)>"
      ]
     },
     "execution_count": 3,
     "metadata": {},
     "output_type": "execute_result"
    }
   ],
   "source": [
    "def radioactiveDecayAnalytical(t, dt, k):\n",
    "    ts = np.arange(0, t + dt, dt)\n",
    "    return ts, np.exp(-k * ts)\n",
    "\n",
    "def radioactiveDecayDot(k, N):\n",
    "    return -k * N\n",
    "\n",
    "def radioactiveDecayEuler(t, dt, k):\n",
    "    ts, Ns = [0], [1]\n",
    "    N = 1\n",
    "    for t in np.arange(dt, t + dt, dt):\n",
    "        N = N + radioactiveDecayDot(k, N) * dt\n",
    "        Ns.append(N)\n",
    "        ts.append(t)\n",
    "    return ts, Ns\n",
    "\n",
    "def update(k = 1.0, t=0, dt=0.1):\n",
    "    plt.figure(figsize=(12,8))\n",
    "    ts, an = radioactiveDecayAnalytical(t, dt, k)\n",
    "    plt.plot(ts, an, label='analytical,k={},dt={}'.format(k, dt))\n",
    "    \n",
    "    ts, euler = radioactiveDecayEuler(t, dt, k)\n",
    "    plt.plot(ts, euler, label=\"euler,k={},dt={}\".format(k, dt))\n",
    "    plt.grid()\n",
    "    plt.legend()\n",
    "    \n",
    "interact(update, k=FloatSlider(min=0, max=5, step=0.1, value=1.0) , \n",
    "         t=FloatSlider(min=0, max=15, step=0.1, value=5.0),\n",
    "         dt=FloatSlider(min=0.01, max=2, step=0.01, value=0.2))"
   ]
  },
  {
   "cell_type": "markdown",
   "metadata": {},
   "source": [
    "If you play long enough with simulation you can see that method isn't really precise ( even for such simple model as radiation decay ). \n",
    "* Euler method is first order accuracy,\n",
    "* rather toy method then used in practice"
   ]
  },
  {
   "cell_type": "markdown",
   "metadata": {},
   "source": [
    "## Leapfrog algoritm\n",
    "Another simple method to evaluate such ordinary equation is leapfrog algorithm. It's two step algorithm ( second step is calculated with euler method ( with small enough step we can precise evaluate that value )). It's second order accuracy ( more precise than euler, but we have to evaluate second step ). <br>\n",
    "$$ \\large y^{n+1} = y^{n-1} + 2 \\Delta t \\cdot f(y^{n}, t^{n})$$"
   ]
  },
  {
   "cell_type": "code",
   "execution_count": 81,
   "metadata": {},
   "outputs": [
    {
     "data": {
      "application/vnd.jupyter.widget-view+json": {
       "model_id": "cda7536040d94f0b8a69abc2e3f5ad08",
       "version_major": 2,
       "version_minor": 0
      },
      "text/plain": [
       "interactive(children=(FloatSlider(value=1.0, description='k', max=5.0), FloatSlider(value=5.0, description='t'…"
      ]
     },
     "metadata": {},
     "output_type": "display_data"
    },
    {
     "data": {
      "text/plain": [
       "<function __main__.update(k=1.0, t=0, dt=0.1, subintervals=1000)>"
      ]
     },
     "execution_count": 81,
     "metadata": {},
     "output_type": "execute_result"
    }
   ],
   "source": [
    "def eulerGetValueAtDt(dt, k, intervals):\n",
    "    N = 1\n",
    "    for t in np.linspace(0, dt, intervals):\n",
    "        N = N + radioactiveDecayDot(k, N) * dt / intervals\n",
    "    return N\n",
    "\n",
    "def radioactiveDecayLeapfrog(t, dt, k, subintervals):\n",
    "    ts, Ns = [0, dt], [1, eulerGetValueAtDt(dt, k, subintervals)]\n",
    "    for t in np.arange(2 * dt, t + dt, dt):\n",
    "        Ns.append(Ns[-2] + 2 * dt * radioactiveDecayDot(k, Ns[-1]))\n",
    "        ts.append(t)\n",
    "    \n",
    "    return ts, Ns\n",
    "\n",
    "def update(k = 1.0, t=0, dt=0.1, subintervals=1000):\n",
    "    plt.figure(figsize=(12,8))\n",
    "    ts, an = radioactiveDecayAnalytical(t, dt, k)\n",
    "    plt.plot(ts, an, label='analytical,k={},dt={}'.format(k, dt))\n",
    "    \n",
    "    ts, euler = radioactiveDecayLeapfrog(t, dt, k, subintervals)\n",
    "    plt.plot(ts, euler, label=\"leapfrog,k={},dt={},subintervals={}\".format(k, dt, subintervals))\n",
    "    plt.grid()\n",
    "    plt.legend()\n",
    "    \n",
    "interact(update, k=FloatSlider(min=0, max=5, step=0.1, value=1.0) , \n",
    "         t=FloatSlider(min=0, max=15, step=0.1, value=5.0),\n",
    "         dt=FloatSlider(min=0.01, max=2, step=0.01, value=0.2),\n",
    "         subintervals=IntSlider(min=10, max=10000, step=10, value=500))"
   ]
  },
  {
   "cell_type": "markdown",
   "metadata": {},
   "source": [
    "it's more accurate than euler, but then it lacks convergence. "
   ]
  },
  {
   "cell_type": "markdown",
   "metadata": {},
   "source": [
    "## mathematical pendulum Euler equation\n",
    "applying euler method to more complex equation of mathematical pendulum"
   ]
  },
  {
   "cell_type": "code",
   "execution_count": 101,
   "metadata": {},
   "outputs": [
    {
     "data": {
      "application/vnd.jupyter.widget-view+json": {
       "model_id": "9d5d7f62ce6748f38274fe18bfa6fb8e",
       "version_major": 2,
       "version_minor": 0
      },
      "text/plain": [
       "interactive(children=(IntSlider(value=180, description='theta', max=360), FloatSlider(value=0.0, description='…"
      ]
     },
     "metadata": {},
     "output_type": "display_data"
    },
    {
     "data": {
      "text/plain": [
       "<function __main__.update(theta=0, omega=0, g=9.81, r=1, t=0, dt=0.1)>"
      ]
     },
     "execution_count": 101,
     "metadata": {},
     "output_type": "execute_result"
    }
   ],
   "source": [
    "def pendulumOmegaDot(theta, g, r):\n",
    "    return g / r * np.sin(theta)\n",
    "\n",
    "def pendulumThetaDot(omega, theta):\n",
    "    return omega\n",
    "\n",
    "def pendulumEuler(t, dt, theta, omega, g, r):\n",
    "    ts, omegas, thetas = [0], [omega], [theta * 180 / np.pi]\n",
    "    for t in np.arange(dt, t + dt, dt):\n",
    "        omega = omega + pendulumOmegaDot(theta, g, r)  * dt\n",
    "        theta = theta + pendulumThetaDot(omega, theta) * dt\n",
    "        omegas.append(omega)\n",
    "        thetas.append(theta * 180 / np.pi)\n",
    "        ts.append(t)\n",
    "    return ts, thetas, omegas\n",
    "\n",
    "def update(theta=0, omega=0, g=9.81, r=1, t=0, dt=0.1):\n",
    "    plt.figure(figsize=(12,8))    \n",
    "    \n",
    "    ts, thetas, omegas = pendulumEuler(t, dt, theta * np.pi / 180, omega, g, r)\n",
    "    plt.plot(ts, thetas, label=\"euler,g={},r={},dt={}\".format(g, r, dt))\n",
    "   \n",
    "    plt.xlabel(\"time [t]\")\n",
    "    plt.ylabel(\"angle [theta]\")\n",
    "    plt.grid()\n",
    "    plt.legend()\n",
    "    \n",
    "interact(update, theta=IntSlider(min=0, max=360, step=1, value=180) , \n",
    "                 omega=FloatSlider(min=-10, max=10, step=0.01, value=0),\n",
    "                 g=FloatSlider(min=1, max=20, step=0.01, value=9.81),\n",
    "                 r=FloatSlider(min=0.1, max=10, step=0.05, value=1),\n",
    "                 t=FloatSlider(min=0.1, max=10, step=0.1, value=5),\n",
    "                 dt=FloatSlider(min=0.01, max=2, step=0.01, value=0.05))"
   ]
  },
  {
   "cell_type": "markdown",
   "metadata": {},
   "source": [
    "Plotting energies of mathematical pendulum ( potential, kinetic and total energy) ( as you can see total energy isn't equal at all time, ( it oscillates) because of accuracy of our method) "
   ]
  },
  {
   "cell_type": "code",
   "execution_count": 105,
   "metadata": {},
   "outputs": [
    {
     "data": {
      "application/vnd.jupyter.widget-view+json": {
       "model_id": "56a0e4d1727d4cc3a866cd241938b18c",
       "version_major": 2,
       "version_minor": 0
      },
      "text/plain": [
       "interactive(children=(IntSlider(value=180, description='theta', max=360), FloatSlider(value=0.0, description='…"
      ]
     },
     "metadata": {},
     "output_type": "display_data"
    },
    {
     "data": {
      "text/plain": [
       "<function __main__.update(theta=0, omega=0, g=9.81, r=1, t=0, dt=0.1, m=1)>"
      ]
     },
     "execution_count": 105,
     "metadata": {},
     "output_type": "execute_result"
    }
   ],
   "source": [
    "def pendulumOmegaDot(theta, g, r):\n",
    "    return g / r * np.sin(theta)\n",
    "\n",
    "def pendulumThetaDot(omega, theta):\n",
    "    return omega\n",
    "\n",
    "def pendulumEulerEnergy(t, dt, theta, omega, g, r, m):\n",
    "    ts, Ek, Ep = [], [], []\n",
    "    for t in np.arange(0, t + dt, dt):\n",
    "        omega = omega + pendulumOmegaDot(theta, g, r)  * dt\n",
    "        theta = theta + pendulumThetaDot(omega, theta) * dt\n",
    "        Ek.append( (omega* r)**2 * m / 2 )\n",
    "        Ep.append(m * g * np.cos(theta) * r)\n",
    "        ts.append(t)\n",
    "    return ts, Ek, Ep\n",
    "\n",
    "def update(theta=0, omega=0, g=9.81, r=1, t=0, dt=0.1, m=1):\n",
    "    plt.figure(figsize=(12,8))    \n",
    "    \n",
    "    ts, Ek, Ep = pendulumEulerEnergy(t, dt, theta * np.pi / 180, omega, g, r, m)\n",
    "    plt.plot(ts, Ek, label=\"Kinetic Energy,euler,g={},r={},dt={}\".format(g, r, dt))\n",
    "    plt.plot(ts, Ep, label=\"Potential Energy,euler,g={},r={},dt={}\".format(g, r, dt))\n",
    "    plt.plot(ts, np.array(Ek) + np.array(Ep), label=\"Total Energy\")\n",
    "    plt.xlabel(\"time [t]\")\n",
    "    plt.ylabel(\"Energy \")\n",
    "    plt.grid()\n",
    "    plt.legend()\n",
    "    \n",
    "interact(update, theta=IntSlider(min=0, max=360, step=1, value=180) , \n",
    "                 omega=FloatSlider(min=-10, max=10, step=0.01, value=0),\n",
    "                 g=FloatSlider(min=1, max=20, step=0.01, value=9.81),\n",
    "                 r=FloatSlider(min=0.1, max=10, step=0.05, value=1),\n",
    "                 t=FloatSlider(min=0.1, max=10, step=0.1, value=5),\n",
    "                 dt=FloatSlider(min=0.01, max=2, step=0.01, value=0.05),\n",
    "                 m=FloatSlider(min=0.1, max=10, step=0.1, value=0.1))"
   ]
  },
  {
   "cell_type": "markdown",
   "metadata": {},
   "source": [
    "# Lisajous Figures\n",
    "Lisajous figures are interesting case of simple equation that can create really interesting images. Those figures are described as :\n",
    "$$\\large x = sin(at)$$\n",
    "$$\\large y = cos(bt + \\alpha)$$"
   ]
  },
  {
   "cell_type": "code",
   "execution_count": 109,
   "metadata": {},
   "outputs": [
    {
     "data": {
      "application/vnd.jupyter.widget-view+json": {
       "model_id": "80a0af1bd2254937b67094590c3d679a",
       "version_major": 2,
       "version_minor": 0
      },
      "text/plain": [
       "interactive(children=(FloatSlider(value=50.0, description='t', step=1.0), FloatSlider(value=-4.6, description=…"
      ]
     },
     "metadata": {},
     "output_type": "display_data"
    },
    {
     "data": {
      "text/plain": [
       "<function __main__.update(t, a, b, dt, shift)>"
      ]
     },
     "execution_count": 109,
     "metadata": {},
     "output_type": "execute_result"
    }
   ],
   "source": [
    "def update(t, a, b, dt, shift):\n",
    "    plt.figure(figsize=(12,12))    \n",
    "    \n",
    "    shift = shift * np.pi / 180\n",
    "    ts, a1, a2 = [], [], []\n",
    "    for t in np.arange(0, t + dt, dt):\n",
    "        a1.append(np.sin(a * t))\n",
    "        a2.append(np.cos(b * t + shift))\n",
    "    plt.plot(a1, a2, label=\"a={},b={},shift={},dt={}\".format(a,b,shift,dt))\n",
    "    plt.xlabel(\"angle1\")\n",
    "    plt.ylabel(\"angle2\")\n",
    "    plt.legend()\n",
    "    \n",
    "interact(update, t=FloatSlider(min=0, max=100, step=1,       value=50),\n",
    "                 a=FloatSlider(min=-10, max=10, step=0.01,   value=-4.6),\n",
    "                 b=FloatSlider(min=-10, max=10, step=0.01,   value=5),\n",
    "                 dt=FloatSlider(min=0.01, max=0.5, step=0.01, value=0.01),\n",
    "                 shift=IntSlider(min=0, max=360, value=0))"
   ]
  },
  {
   "cell_type": "code",
   "execution_count": 132,
   "metadata": {},
   "outputs": [
    {
     "data": {
      "application/vnd.jupyter.widget-view+json": {
       "model_id": "e2985bc458f2447483a3eb27e1368d59",
       "version_major": 2,
       "version_minor": 0
      },
      "text/plain": [
       "interactive(children=(FloatSlider(value=10.0, description='t', step=1.0), FloatSlider(value=9.81, description=…"
      ]
     },
     "metadata": {},
     "output_type": "display_data"
    },
    {
     "data": {
      "text/plain": [
       "<function __main__.update(t, g, k, dt, m, x, v)>"
      ]
     },
     "execution_count": 132,
     "metadata": {},
     "output_type": "execute_result"
    }
   ],
   "source": [
    "# Harmonic oscillator derivative of velocity\n",
    "def harmonicOscVelocityDot(g, m, k, x):\n",
    "    return g - k /m * x\n",
    "\n",
    "# derivative of position\n",
    "def harmonicOscPositionDot(v, x):\n",
    "    return v\n",
    "\n",
    "def harmonicOscillatorEuler(t, dt, g, k, m, x, v):\n",
    "    ts, vs, xs = [0], [v], [x]\n",
    "    for t in np.arange(dt, t + dt, dt):\n",
    "        v = v + harmonicOscVelocityDot(g, m, k, x)  * dt\n",
    "        x = x + harmonicOscPositionDot(v, x) * dt\n",
    "        vs.append(v)\n",
    "        xs.append(x)\n",
    "        ts.append(t)\n",
    "    return ts, vs, xs\n",
    "\n",
    "def update(t, g, k, dt, m, x, v):\n",
    "    plt.figure(figsize=(12,12))    \n",
    "    \n",
    "    ts, xs,vs = harmonicOscillatorEuler(t, dt, g, k, m, x, v)\n",
    "    plt.plot(ts, xs,label=\"g={},k={},dt={},m={}\".format(g,k,dt,m))\n",
    "    plt.legend()\n",
    "    plt.grid()\n",
    "    plt.xlabel(\"time\")\n",
    "    plt.ylabel(\"position\")\n",
    "    \n",
    "interact(update, t=FloatSlider(min=0, max=100, step=1,       value=10),\n",
    "                 dt=FloatSlider(min=0.01, max=0.5, step=0.01, value=0.01),\n",
    "                 g=FloatSlider(min=0, max=20, step=0.01,   value=9.81),\n",
    "                 k=FloatSlider(min=0.01, max=10, step=0.01,   value=1),\n",
    "                 m=FloatSlider(min=0.1, max=10, step=0.1, value=1),\n",
    "                 x=FloatSlider(min=-10, max=10, step=0.1, value=0),\n",
    "                 v=FloatSlider(min=-10, max=10, step=0.1, value=0))"
   ]
  },
  {
   "cell_type": "markdown",
   "metadata": {},
   "source": [
    "## more accurate methods"
   ]
  },
  {
   "cell_type": "markdown",
   "metadata": {},
   "source": [
    "## Midpoint\n",
    "another method of second order accuracy is MidPoint. This method can be formulated as:\n",
    "$$ \\large k_{1} = h \\cdot f(y^{n}, t^{n})$$<br>\n",
    "$$ \\large k_{2} = h \\cdot f(y^{n} + 0.5 k_{1}, t^{n} + 0.5 h)$$<br>\n",
    "$$ \\large y^{n+1} = y^{n} + k_{2}$$<br>"
   ]
  },
  {
   "cell_type": "code",
   "execution_count": 135,
   "metadata": {},
   "outputs": [
    {
     "data": {
      "application/vnd.jupyter.widget-view+json": {
       "model_id": "4579d4445005470492484a5f3200eb22",
       "version_major": 2,
       "version_minor": 0
      },
      "text/plain": [
       "interactive(children=(FloatSlider(value=1.0, description='k', max=5.0), FloatSlider(value=5.0, description='t'…"
      ]
     },
     "metadata": {},
     "output_type": "display_data"
    },
    {
     "data": {
      "text/plain": [
       "<function __main__.update(k=1.0, t=0, dt=0.1)>"
      ]
     },
     "execution_count": 135,
     "metadata": {},
     "output_type": "execute_result"
    }
   ],
   "source": [
    "def radioactiveDecayMidpoint(t, dt, k):\n",
    "    ts, Ns = [0], [1]\n",
    "    N = 1\n",
    "    for t in np.arange(dt, t + dt, dt):\n",
    "        k1 = dt * radioactiveDecayDot(k, N) \n",
    "        k2 = dt * radioactiveDecayDot(k, N + 0.5 * k1)\n",
    "        N = N + k2\n",
    "        Ns.append(N)\n",
    "        ts.append(t)\n",
    "    return ts, Ns\n",
    "\n",
    "def update(k = 1.0, t=0, dt=0.1):\n",
    "    plt.figure(figsize=(12,8))\n",
    "    ts, an = radioactiveDecayAnalytical(t, dt, k)\n",
    "    plt.plot(ts, an, label='analytical,k={},dt={}'.format(k, dt))\n",
    "    \n",
    "    ts, euler = radioactiveDecayMidpoint(t, dt, k)\n",
    "    plt.plot(ts, euler, label=\"Midpoint,k={},dt={}\".format(k, dt))\n",
    "    plt.grid()\n",
    "    plt.legend()\n",
    "    \n",
    "interact(update, k=FloatSlider(min=0, max=5, step=0.1, value=1.0) , \n",
    "         t=FloatSlider(min=0, max=15, step=0.1, value=5.0),\n",
    "         dt=FloatSlider(min=0.01, max=2, step=0.01, value=0.2))"
   ]
  },
  {
   "cell_type": "markdown",
   "metadata": {},
   "source": [
    "Midpoint results in much better results than euler and doesn't have problem with convergence as leapfrog ( it has the same order of accuracy as leapfrog).\n",
    "With not really that much effort ( adding one-two extra line of code ) we can easily get that results "
   ]
  },
  {
   "cell_type": "markdown",
   "metadata": {},
   "source": [
    "## Runge-Kutta IV\n",
    "This is 4 order of accuracy method. It can be used in many applications where accuracy matters. The implementation isn't as that complicated as others ( which is great because we achieve great accuracy in comparasion with other).\n",
    "\n",
    "$$ \\large k_{1} = h \\cdot f(y^{n},t^{n})$$ <br>\n",
    "$$ \\large k_{2} = h \\cdot f(y^{n} + 0.5 k_{1},t^{n} + 0.5 h)$$ <br>\n",
    "$$ \\large k_{3} = h \\cdot f(y^{n} + 0.5 k_{2},t^{n} + 0.5 h)$$ <br>\n",
    "$$ \\large k_{4} = h \\cdot f(y^{n} + k_{3},t^{n} + h)$$ <br>\n",
    "$$ \\large y^{n+1} = y^{n} + \\frac{1}{6}(k_{1} + 2k_{2} + 2k_{3} + k_{4}) $$ <br> "
   ]
  },
  {
   "cell_type": "code",
   "execution_count": 137,
   "metadata": {
    "scrolled": false
   },
   "outputs": [
    {
     "data": {
      "application/vnd.jupyter.widget-view+json": {
       "model_id": "5242169a8caa432ab058080be6f8890c",
       "version_major": 2,
       "version_minor": 0
      },
      "text/plain": [
       "interactive(children=(FloatSlider(value=1.0, description='k', max=5.0), FloatSlider(value=5.0, description='t'…"
      ]
     },
     "metadata": {},
     "output_type": "display_data"
    },
    {
     "data": {
      "text/plain": [
       "<function __main__.update(k=1.0, t=0, dt=0.1)>"
      ]
     },
     "execution_count": 137,
     "metadata": {},
     "output_type": "execute_result"
    }
   ],
   "source": [
    "def radioactiveDecayRKIV(t, dt, k):\n",
    "    ts, Ns = [0], [1]\n",
    "    N = 1\n",
    "    for t in np.arange(dt, t + dt, dt):\n",
    "        k1 = dt * radioactiveDecayDot(k, N) \n",
    "        k2 = dt * radioactiveDecayDot(k, N + 0.5 * k1)\n",
    "        k3 = dt * radioactiveDecayDot(k, N + 0.5 * k2)\n",
    "        k4 = dt * radioactiveDecayDot(k, N + k3)\n",
    "        N = N + 1/6 * (k1 + 2 * k2 + 2 * k3 + k4)\n",
    "        Ns.append(N)\n",
    "        ts.append(t)\n",
    "    return ts, Ns\n",
    "\n",
    "def update(k = 1.0, t=0, dt=0.1):\n",
    "    plt.figure(figsize=(12,8))\n",
    "    ts, an = radioactiveDecayAnalytical(t, dt, k)\n",
    "    plt.plot(ts, an, label='analytical,k={},dt={}'.format(k, dt))\n",
    "    \n",
    "    ts, euler = radioactiveDecayRKIV(t, dt, k)\n",
    "    plt.plot(ts, euler, label=\"Runge Kutta IV,k={},dt={}\".format(k, dt))\n",
    "    plt.grid()\n",
    "    plt.legend()\n",
    "    \n",
    "interact(update, k=FloatSlider(min=0, max=5, step=0.1, value=1.0) , \n",
    "         t=FloatSlider(min=0, max=15, step=0.1, value=5.0),\n",
    "         dt=FloatSlider(min=0.01, max=2, step=0.01, value=1))"
   ]
  },
  {
   "cell_type": "markdown",
   "metadata": {},
   "source": []
  }
 ],
 "metadata": {
  "kernelspec": {
   "display_name": "Python 3",
   "language": "python",
   "name": "python3"
  },
  "language_info": {
   "codemirror_mode": {
    "name": "ipython",
    "version": 3
   },
   "file_extension": ".py",
   "mimetype": "text/x-python",
   "name": "python",
   "nbconvert_exporter": "python",
   "pygments_lexer": "ipython3",
   "version": "3.7.3"
  }
 },
 "nbformat": 4,
 "nbformat_minor": 2
}
